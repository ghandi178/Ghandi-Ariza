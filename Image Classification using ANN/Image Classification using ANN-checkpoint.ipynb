{
 "cells": [
  {
   "cell_type": "markdown",
   "metadata": {},
   "source": [
    "<h3>1. Import module yang dibutuhkan</h3>"
   ]
  },
  {
   "cell_type": "code",
   "execution_count": 3,
   "metadata": {},
   "outputs": [],
   "source": [
    "from sklearn.model_selection import train_test_split\n",
    "from sklearn.preprocessing import LabelEncoder\n",
    "from sklearn.metrics import classification_report\n",
    "from tensorflow.keras.models import Sequential\n",
    "from tensorflow.keras.layers import Flatten, Dense\n",
    "from tensorflow.keras.optimizers import SGD\n",
    "import numpy as np\n",
    "import cv2\n",
    "import glob\n",
    "import matplotlib.pyplot as plt"
   ]
  },
  {
   "cell_type": "markdown",
   "metadata": {},
   "source": [
    "<h3>2. Load Dataset</h3>"
   ]
  },
  {
   "cell_type": "code",
   "execution_count": 4,
   "metadata": {},
   "outputs": [],
   "source": [
    "imagePaths = 'dataset\\\\daun_pk\\\\'\n",
    "label_list = ['kemangi', 'pepaya']\n",
    "data = []\n",
    "labels = []"
   ]
  },
  {
   "cell_type": "code",
   "execution_count": 5,
   "metadata": {},
   "outputs": [],
   "source": [
    "for label in label_list:\n",
    "    for imagePath in glob.glob(imagePaths+label+'\\\\*.jpg'):\n",
    "        #print(imagePath)\n",
    "        image = cv2.imread(imagePath)\n",
    "        image = cv2.resize(image, (32, 32))\n",
    "        data.append(image)\n",
    "        labels.append(label)"
   ]
  },
  {
   "cell_type": "code",
   "execution_count": 6,
   "metadata": {},
   "outputs": [
    {
     "data": {
      "text/plain": [
       "(99, 32, 32, 3)"
      ]
     },
     "execution_count": 6,
     "metadata": {},
     "output_type": "execute_result"
    }
   ],
   "source": [
    "np.array(data).shape"
   ]
  },
  {
   "cell_type": "markdown",
   "metadata": {},
   "source": [
    "<h3>3. Data Preprocessing</h3>"
   ]
  },
  {
   "cell_type": "code",
   "execution_count": 7,
   "metadata": {},
   "outputs": [],
   "source": [
    "# ubah type data dari list menjadi array\n",
    "# ubah nilai dari tiap pixel menjadi range [0..1]\n",
    "data = np.array(data, dtype='float') / 255.0\n",
    "labels = np.array(labels)"
   ]
  },
  {
   "cell_type": "code",
   "execution_count": 8,
   "metadata": {},
   "outputs": [
    {
     "name": "stdout",
     "output_type": "stream",
     "text": [
      "['kemangi' 'kemangi' 'kemangi' 'kemangi' 'kemangi' 'kemangi' 'kemangi'\n",
      " 'kemangi' 'kemangi' 'kemangi' 'kemangi' 'kemangi' 'kemangi' 'kemangi'\n",
      " 'kemangi' 'kemangi' 'kemangi' 'kemangi' 'kemangi' 'kemangi' 'kemangi'\n",
      " 'kemangi' 'kemangi' 'kemangi' 'kemangi' 'kemangi' 'kemangi' 'kemangi'\n",
      " 'kemangi' 'kemangi' 'kemangi' 'kemangi' 'kemangi' 'kemangi' 'kemangi'\n",
      " 'kemangi' 'kemangi' 'kemangi' 'kemangi' 'kemangi' 'kemangi' 'kemangi'\n",
      " 'kemangi' 'kemangi' 'kemangi' 'kemangi' 'kemangi' 'kemangi' 'kemangi'\n",
      " 'pepaya' 'pepaya' 'pepaya' 'pepaya' 'pepaya' 'pepaya' 'pepaya' 'pepaya'\n",
      " 'pepaya' 'pepaya' 'pepaya' 'pepaya' 'pepaya' 'pepaya' 'pepaya' 'pepaya'\n",
      " 'pepaya' 'pepaya' 'pepaya' 'pepaya' 'pepaya' 'pepaya' 'pepaya' 'pepaya'\n",
      " 'pepaya' 'pepaya' 'pepaya' 'pepaya' 'pepaya' 'pepaya' 'pepaya' 'pepaya'\n",
      " 'pepaya' 'pepaya' 'pepaya' 'pepaya' 'pepaya' 'pepaya' 'pepaya' 'pepaya'\n",
      " 'pepaya' 'pepaya' 'pepaya' 'pepaya' 'pepaya' 'pepaya' 'pepaya' 'pepaya'\n",
      " 'pepaya' 'pepaya']\n"
     ]
    }
   ],
   "source": [
    "print(labels)"
   ]
  },
  {
   "cell_type": "code",
   "execution_count": 9,
   "metadata": {},
   "outputs": [
    {
     "name": "stdout",
     "output_type": "stream",
     "text": [
      "[0 0 0 0 0 0 0 0 0 0 0 0 0 0 0 0 0 0 0 0 0 0 0 0 0 0 0 0 0 0 0 0 0 0 0 0 0\n",
      " 0 0 0 0 0 0 0 0 0 0 0 0 1 1 1 1 1 1 1 1 1 1 1 1 1 1 1 1 1 1 1 1 1 1 1 1 1\n",
      " 1 1 1 1 1 1 1 1 1 1 1 1 1 1 1 1 1 1 1 1 1 1 1 1 1]\n"
     ]
    }
   ],
   "source": [
    "# ubah nilai dari labels menjadi binary\n",
    "lb = LabelEncoder()\n",
    "labels = lb.fit_transform(labels)\n",
    "print(labels)"
   ]
  },
  {
   "cell_type": "markdown",
   "metadata": {},
   "source": [
    "<h3>4. Split Dataset</h3>"
   ]
  },
  {
   "cell_type": "code",
   "execution_count": 10,
   "metadata": {},
   "outputs": [],
   "source": [
    "x_train, x_test, y_train, y_test = train_test_split(data, labels, test_size=0.2, random_state=42)"
   ]
  },
  {
   "cell_type": "code",
   "execution_count": 11,
   "metadata": {},
   "outputs": [
    {
     "name": "stdout",
     "output_type": "stream",
     "text": [
      "Ukuran data train = (79, 32, 32, 3)\n",
      "Ukuran data test = (20, 32, 32, 3)\n"
     ]
    }
   ],
   "source": [
    "print('Ukuran data train =', x_train.shape)\n",
    "print('Ukuran data test =', x_test.shape)"
   ]
  },
  {
   "cell_type": "markdown",
   "metadata": {},
   "source": [
    "<h3>5. Build ANN Architecture</h3>"
   ]
  },
  {
   "cell_type": "code",
   "execution_count": 12,
   "metadata": {},
   "outputs": [],
   "source": [
    "model = Sequential()\n",
    "model.add(Flatten(input_shape=(32,32,3)))\n",
    "model.add(Dense(1024, activation=\"relu\"))\n",
    "model.add(Dense(1024, activation=\"relu\"))\n",
    "model.add(Dense(1, activation=\"sigmoid\"))"
   ]
  },
  {
   "cell_type": "code",
   "execution_count": 13,
   "metadata": {},
   "outputs": [
    {
     "name": "stdout",
     "output_type": "stream",
     "text": [
      "Model: \"sequential\"\n",
      "_________________________________________________________________\n",
      " Layer (type)                Output Shape              Param #   \n",
      "=================================================================\n",
      " flatten (Flatten)           (None, 3072)              0         \n",
      "                                                                 \n",
      " dense (Dense)               (None, 1024)              3146752   \n",
      "                                                                 \n",
      " dense_1 (Dense)             (None, 1024)              1049600   \n",
      "                                                                 \n",
      " dense_2 (Dense)             (None, 1)                 1025      \n",
      "                                                                 \n",
      "=================================================================\n",
      "Total params: 4,197,377\n",
      "Trainable params: 4,197,377\n",
      "Non-trainable params: 0\n",
      "_________________________________________________________________\n"
     ]
    }
   ],
   "source": [
    "model.summary()"
   ]
  },
  {
   "cell_type": "code",
   "execution_count": 14,
   "metadata": {},
   "outputs": [],
   "source": [
    "# tentukan hyperparameter\n",
    "lr = 0.01\n",
    "max_epochs = 100\n",
    "opt_funct = SGD(learning_rate=lr)"
   ]
  },
  {
   "cell_type": "code",
   "execution_count": 15,
   "metadata": {},
   "outputs": [],
   "source": [
    "# compile arsitektur yang telah dibuat\n",
    "model.compile(loss = 'binary_crossentropy', \n",
    "              optimizer = opt_funct, \n",
    "              metrics = ['accuracy'])"
   ]
  },
  {
   "cell_type": "markdown",
   "metadata": {},
   "source": [
    "<h3>6. Train Model</h3>"
   ]
  },
  {
   "cell_type": "code",
   "execution_count": 16,
   "metadata": {},
   "outputs": [
    {
     "name": "stdout",
     "output_type": "stream",
     "text": [
      "Epoch 1/100\n",
      "3/3 [==============================] - 0s 78ms/step - loss: 0.7672 - accuracy: 0.5949 - val_loss: 3.3029 - val_accuracy: 0.4000\n",
      "Epoch 2/100\n",
      "3/3 [==============================] - 0s 33ms/step - loss: 1.2676 - accuracy: 0.5570 - val_loss: 2.4753 - val_accuracy: 0.4000\n",
      "Epoch 3/100\n",
      "3/3 [==============================] - 0s 44ms/step - loss: 0.9588 - accuracy: 0.6456 - val_loss: 1.2167 - val_accuracy: 0.4000\n",
      "Epoch 4/100\n",
      "3/3 [==============================] - 0s 22ms/step - loss: 1.1835 - accuracy: 0.4304 - val_loss: 0.6105 - val_accuracy: 0.6000\n",
      "Epoch 5/100\n",
      "3/3 [==============================] - 0s 41ms/step - loss: 0.5469 - accuracy: 0.7468 - val_loss: 0.5804 - val_accuracy: 0.8000\n",
      "Epoch 6/100\n",
      "3/3 [==============================] - 0s 29ms/step - loss: 0.5205 - accuracy: 0.7848 - val_loss: 0.7136 - val_accuracy: 0.4000\n",
      "Epoch 7/100\n",
      "3/3 [==============================] - 0s 37ms/step - loss: 0.4855 - accuracy: 0.7848 - val_loss: 1.0791 - val_accuracy: 0.4000\n",
      "Epoch 8/100\n",
      "3/3 [==============================] - 0s 39ms/step - loss: 0.5041 - accuracy: 0.7468 - val_loss: 0.6229 - val_accuracy: 0.5500\n",
      "Epoch 9/100\n",
      "3/3 [==============================] - 0s 32ms/step - loss: 0.5187 - accuracy: 0.7595 - val_loss: 1.1289 - val_accuracy: 0.6000\n",
      "Epoch 10/100\n",
      "3/3 [==============================] - 0s 19ms/step - loss: 0.9419 - accuracy: 0.4810 - val_loss: 0.7926 - val_accuracy: 0.4000\n",
      "Epoch 11/100\n",
      "3/3 [==============================] - 0s 26ms/step - loss: 0.4246 - accuracy: 0.8354 - val_loss: 0.5636 - val_accuracy: 0.8000\n",
      "Epoch 12/100\n",
      "3/3 [==============================] - 0s 20ms/step - loss: 0.4039 - accuracy: 0.8734 - val_loss: 0.4921 - val_accuracy: 0.8000\n",
      "Epoch 13/100\n",
      "3/3 [==============================] - 0s 31ms/step - loss: 0.4999 - accuracy: 0.6962 - val_loss: 0.8281 - val_accuracy: 0.4000\n",
      "Epoch 14/100\n",
      "3/3 [==============================] - 0s 33ms/step - loss: 0.5803 - accuracy: 0.5570 - val_loss: 0.5732 - val_accuracy: 0.7000\n",
      "Epoch 15/100\n",
      "3/3 [==============================] - 0s 36ms/step - loss: 0.3434 - accuracy: 0.9873 - val_loss: 0.5163 - val_accuracy: 0.7500\n",
      "Epoch 16/100\n",
      "3/3 [==============================] - 0s 18ms/step - loss: 0.4743 - accuracy: 0.7342 - val_loss: 1.2509 - val_accuracy: 0.4000\n",
      "Epoch 17/100\n",
      "3/3 [==============================] - 0s 19ms/step - loss: 0.7281 - accuracy: 0.4810 - val_loss: 0.7608 - val_accuracy: 0.6000\n",
      "Epoch 18/100\n",
      "3/3 [==============================] - 0s 23ms/step - loss: 0.6911 - accuracy: 0.5443 - val_loss: 0.5906 - val_accuracy: 0.6500\n",
      "Epoch 19/100\n",
      "3/3 [==============================] - 0s 23ms/step - loss: 0.3957 - accuracy: 0.8734 - val_loss: 0.4568 - val_accuracy: 0.8000\n",
      "Epoch 20/100\n",
      "3/3 [==============================] - 0s 31ms/step - loss: 0.4696 - accuracy: 0.7215 - val_loss: 0.5444 - val_accuracy: 0.8000\n",
      "Epoch 21/100\n",
      "3/3 [==============================] - 0s 19ms/step - loss: 0.2969 - accuracy: 0.9494 - val_loss: 0.4313 - val_accuracy: 0.8000\n",
      "Epoch 22/100\n",
      "3/3 [==============================] - 0s 42ms/step - loss: 0.3864 - accuracy: 0.8608 - val_loss: 0.8086 - val_accuracy: 0.4000\n",
      "Epoch 23/100\n",
      "3/3 [==============================] - 0s 45ms/step - loss: 0.5314 - accuracy: 0.6076 - val_loss: 0.7760 - val_accuracy: 0.6000\n",
      "Epoch 24/100\n",
      "3/3 [==============================] - 0s 16ms/step - loss: 0.5736 - accuracy: 0.6709 - val_loss: 0.4759 - val_accuracy: 0.8500\n",
      "Epoch 25/100\n",
      "3/3 [==============================] - 0s 27ms/step - loss: 0.2919 - accuracy: 0.9367 - val_loss: 0.4509 - val_accuracy: 0.7500\n",
      "Epoch 26/100\n",
      "3/3 [==============================] - 0s 23ms/step - loss: 0.5092 - accuracy: 0.7089 - val_loss: 0.9290 - val_accuracy: 0.4000\n",
      "Epoch 27/100\n",
      "3/3 [==============================] - 0s 23ms/step - loss: 0.5851 - accuracy: 0.5696 - val_loss: 0.4390 - val_accuracy: 0.8500\n",
      "Epoch 28/100\n",
      "3/3 [==============================] - 0s 33ms/step - loss: 0.2865 - accuracy: 0.9241 - val_loss: 0.5685 - val_accuracy: 0.7500\n",
      "Epoch 29/100\n",
      "3/3 [==============================] - 0s 28ms/step - loss: 0.2729 - accuracy: 0.9241 - val_loss: 0.4171 - val_accuracy: 0.9000\n",
      "Epoch 30/100\n",
      "3/3 [==============================] - 0s 25ms/step - loss: 0.2550 - accuracy: 0.9620 - val_loss: 0.6598 - val_accuracy: 0.5000\n",
      "Epoch 31/100\n",
      "3/3 [==============================] - 0s 30ms/step - loss: 0.3255 - accuracy: 0.8481 - val_loss: 0.6456 - val_accuracy: 0.6500\n",
      "Epoch 32/100\n",
      "3/3 [==============================] - 0s 31ms/step - loss: 0.3101 - accuracy: 0.8987 - val_loss: 0.5106 - val_accuracy: 0.8000\n",
      "Epoch 33/100\n",
      "3/3 [==============================] - 0s 36ms/step - loss: 0.2095 - accuracy: 0.9620 - val_loss: 0.4303 - val_accuracy: 0.8500\n",
      "Epoch 34/100\n",
      "3/3 [==============================] - 0s 36ms/step - loss: 0.1941 - accuracy: 0.9747 - val_loss: 0.4010 - val_accuracy: 0.9000\n",
      "Epoch 35/100\n",
      "3/3 [==============================] - 0s 37ms/step - loss: 0.1853 - accuracy: 0.9620 - val_loss: 0.3712 - val_accuracy: 0.8000\n",
      "Epoch 36/100\n",
      "3/3 [==============================] - 0s 30ms/step - loss: 0.2042 - accuracy: 0.9747 - val_loss: 0.4887 - val_accuracy: 0.8000\n",
      "Epoch 37/100\n",
      "3/3 [==============================] - 0s 38ms/step - loss: 0.2043 - accuracy: 0.9620 - val_loss: 0.8753 - val_accuracy: 0.4500\n",
      "Epoch 38/100\n",
      "3/3 [==============================] - 0s 48ms/step - loss: 0.4122 - accuracy: 0.7848 - val_loss: 0.6900 - val_accuracy: 0.6500\n",
      "Epoch 39/100\n",
      "3/3 [==============================] - 0s 32ms/step - loss: 0.3755 - accuracy: 0.8228 - val_loss: 0.6688 - val_accuracy: 0.5500\n",
      "Epoch 40/100\n",
      "3/3 [==============================] - 0s 33ms/step - loss: 0.2559 - accuracy: 0.8861 - val_loss: 0.3956 - val_accuracy: 0.8500\n",
      "Epoch 41/100\n",
      "3/3 [==============================] - 0s 42ms/step - loss: 0.1629 - accuracy: 0.9873 - val_loss: 0.4079 - val_accuracy: 0.8500\n",
      "Epoch 42/100\n",
      "3/3 [==============================] - 0s 39ms/step - loss: 0.1937 - accuracy: 0.9367 - val_loss: 0.3637 - val_accuracy: 0.8500\n",
      "Epoch 43/100\n",
      "3/3 [==============================] - 0s 39ms/step - loss: 0.1536 - accuracy: 0.9873 - val_loss: 0.3799 - val_accuracy: 0.8000\n",
      "Epoch 44/100\n",
      "3/3 [==============================] - 0s 48ms/step - loss: 0.2146 - accuracy: 0.9241 - val_loss: 0.8108 - val_accuracy: 0.4500\n",
      "Epoch 45/100\n",
      "3/3 [==============================] - 0s 38ms/step - loss: 0.3813 - accuracy: 0.7848 - val_loss: 0.3653 - val_accuracy: 0.8000\n",
      "Epoch 46/100\n",
      "3/3 [==============================] - 0s 39ms/step - loss: 0.1671 - accuracy: 0.9494 - val_loss: 0.3639 - val_accuracy: 0.8000\n",
      "Epoch 47/100\n",
      "3/3 [==============================] - 0s 41ms/step - loss: 0.1690 - accuracy: 0.9494 - val_loss: 0.4232 - val_accuracy: 0.8000\n",
      "Epoch 48/100\n",
      "3/3 [==============================] - 0s 48ms/step - loss: 0.1681 - accuracy: 0.9494 - val_loss: 0.3935 - val_accuracy: 0.8000\n",
      "Epoch 49/100\n",
      "3/3 [==============================] - 0s 43ms/step - loss: 0.1612 - accuracy: 0.9494 - val_loss: 0.6307 - val_accuracy: 0.7500\n",
      "Epoch 50/100\n",
      "3/3 [==============================] - 0s 41ms/step - loss: 0.2489 - accuracy: 0.9114 - val_loss: 0.5200 - val_accuracy: 0.7500\n",
      "Epoch 51/100\n",
      "3/3 [==============================] - 0s 36ms/step - loss: 0.4539 - accuracy: 0.7975 - val_loss: 1.9277 - val_accuracy: 0.4000\n",
      "Epoch 52/100\n",
      "3/3 [==============================] - 0s 40ms/step - loss: 0.8619 - accuracy: 0.5823 - val_loss: 0.3608 - val_accuracy: 0.8500\n",
      "Epoch 53/100\n",
      "3/3 [==============================] - 0s 48ms/step - loss: 0.2101 - accuracy: 0.9367 - val_loss: 0.5111 - val_accuracy: 0.8000\n",
      "Epoch 54/100\n",
      "3/3 [==============================] - 0s 45ms/step - loss: 0.1527 - accuracy: 0.9747 - val_loss: 0.3538 - val_accuracy: 0.9000\n",
      "Epoch 55/100\n",
      "3/3 [==============================] - 0s 45ms/step - loss: 0.1339 - accuracy: 0.9620 - val_loss: 0.3507 - val_accuracy: 0.9000\n",
      "Epoch 56/100\n",
      "3/3 [==============================] - 0s 35ms/step - loss: 0.1449 - accuracy: 0.9620 - val_loss: 0.3413 - val_accuracy: 0.8500\n",
      "Epoch 57/100\n",
      "3/3 [==============================] - 0s 36ms/step - loss: 0.1416 - accuracy: 0.9747 - val_loss: 0.3455 - val_accuracy: 0.9000\n",
      "Epoch 58/100\n",
      "3/3 [==============================] - 0s 45ms/step - loss: 0.1154 - accuracy: 0.9620 - val_loss: 0.4449 - val_accuracy: 0.9000\n",
      "Epoch 59/100\n",
      "3/3 [==============================] - 0s 45ms/step - loss: 0.1813 - accuracy: 0.9367 - val_loss: 0.9438 - val_accuracy: 0.4500\n",
      "Epoch 60/100\n",
      "3/3 [==============================] - 0s 34ms/step - loss: 0.4255 - accuracy: 0.7975 - val_loss: 0.4137 - val_accuracy: 0.8000\n",
      "Epoch 61/100\n",
      "3/3 [==============================] - 0s 38ms/step - loss: 0.2353 - accuracy: 0.8987 - val_loss: 0.3936 - val_accuracy: 0.8500\n",
      "Epoch 62/100\n",
      "3/3 [==============================] - 0s 34ms/step - loss: 0.1114 - accuracy: 0.9873 - val_loss: 0.4904 - val_accuracy: 0.8500\n",
      "Epoch 63/100\n",
      "3/3 [==============================] - 0s 35ms/step - loss: 0.1282 - accuracy: 0.9747 - val_loss: 0.3356 - val_accuracy: 0.8500\n",
      "Epoch 64/100\n",
      "3/3 [==============================] - 0s 33ms/step - loss: 0.1013 - accuracy: 0.9873 - val_loss: 0.3977 - val_accuracy: 0.8500\n",
      "Epoch 65/100\n",
      "3/3 [==============================] - 0s 38ms/step - loss: 0.0964 - accuracy: 0.9873 - val_loss: 0.3822 - val_accuracy: 0.8500\n",
      "Epoch 66/100\n",
      "3/3 [==============================] - 0s 28ms/step - loss: 0.0930 - accuracy: 1.0000 - val_loss: 0.3348 - val_accuracy: 0.8500\n",
      "Epoch 67/100\n",
      "3/3 [==============================] - 0s 34ms/step - loss: 0.0999 - accuracy: 0.9747 - val_loss: 0.5084 - val_accuracy: 0.8500\n",
      "Epoch 68/100\n",
      "3/3 [==============================] - 0s 34ms/step - loss: 0.1092 - accuracy: 0.9747 - val_loss: 0.3511 - val_accuracy: 0.9000\n",
      "Epoch 69/100\n",
      "3/3 [==============================] - 0s 37ms/step - loss: 0.0877 - accuracy: 0.9873 - val_loss: 0.3780 - val_accuracy: 0.8500\n",
      "Epoch 70/100\n",
      "3/3 [==============================] - 0s 46ms/step - loss: 0.0908 - accuracy: 0.9873 - val_loss: 0.3497 - val_accuracy: 0.8000\n",
      "Epoch 71/100\n",
      "3/3 [==============================] - 0s 46ms/step - loss: 0.0916 - accuracy: 0.9873 - val_loss: 0.4401 - val_accuracy: 0.9000\n",
      "Epoch 72/100\n",
      "3/3 [==============================] - 0s 53ms/step - loss: 0.0885 - accuracy: 1.0000 - val_loss: 0.3972 - val_accuracy: 0.8500\n",
      "Epoch 73/100\n",
      "3/3 [==============================] - 0s 51ms/step - loss: 0.0804 - accuracy: 0.9873 - val_loss: 0.5321 - val_accuracy: 0.8000\n",
      "Epoch 74/100\n",
      "3/3 [==============================] - 0s 37ms/step - loss: 0.0890 - accuracy: 0.9620 - val_loss: 0.3731 - val_accuracy: 0.8500\n",
      "Epoch 75/100\n",
      "3/3 [==============================] - 0s 36ms/step - loss: 0.0749 - accuracy: 1.0000 - val_loss: 0.4712 - val_accuracy: 0.8500\n",
      "Epoch 76/100\n",
      "3/3 [==============================] - 0s 40ms/step - loss: 0.1228 - accuracy: 0.9620 - val_loss: 0.3664 - val_accuracy: 0.8000\n",
      "Epoch 77/100\n",
      "3/3 [==============================] - 0s 49ms/step - loss: 0.1104 - accuracy: 0.9747 - val_loss: 0.3398 - val_accuracy: 0.9000\n",
      "Epoch 78/100\n",
      "3/3 [==============================] - 0s 44ms/step - loss: 0.0859 - accuracy: 0.9620 - val_loss: 0.4241 - val_accuracy: 0.9000\n",
      "Epoch 79/100\n",
      "3/3 [==============================] - 0s 54ms/step - loss: 0.0910 - accuracy: 0.9747 - val_loss: 0.3565 - val_accuracy: 0.8000\n",
      "Epoch 80/100\n",
      "3/3 [==============================] - 0s 36ms/step - loss: 0.0912 - accuracy: 0.9747 - val_loss: 0.3656 - val_accuracy: 0.8000\n",
      "Epoch 81/100\n",
      "3/3 [==============================] - 0s 38ms/step - loss: 0.1104 - accuracy: 0.9620 - val_loss: 0.4182 - val_accuracy: 0.9000\n",
      "Epoch 82/100\n",
      "3/3 [==============================] - 0s 44ms/step - loss: 0.0676 - accuracy: 1.0000 - val_loss: 0.3786 - val_accuracy: 0.8500\n",
      "Epoch 83/100\n",
      "3/3 [==============================] - 0s 54ms/step - loss: 0.0734 - accuracy: 1.0000 - val_loss: 0.3417 - val_accuracy: 0.8000\n",
      "Epoch 84/100\n",
      "3/3 [==============================] - 0s 46ms/step - loss: 0.0746 - accuracy: 0.9873 - val_loss: 0.4467 - val_accuracy: 0.9000\n",
      "Epoch 85/100\n",
      "3/3 [==============================] - 0s 39ms/step - loss: 0.0650 - accuracy: 1.0000 - val_loss: 0.5016 - val_accuracy: 0.8500\n",
      "Epoch 86/100\n",
      "3/3 [==============================] - 0s 48ms/step - loss: 0.0863 - accuracy: 0.9620 - val_loss: 0.3416 - val_accuracy: 0.9000\n",
      "Epoch 87/100\n",
      "3/3 [==============================] - 0s 52ms/step - loss: 0.0755 - accuracy: 1.0000 - val_loss: 0.3632 - val_accuracy: 0.8500\n",
      "Epoch 88/100\n",
      "3/3 [==============================] - 0s 52ms/step - loss: 0.0635 - accuracy: 0.9873 - val_loss: 0.3875 - val_accuracy: 0.8500\n",
      "Epoch 89/100\n",
      "3/3 [==============================] - 0s 54ms/step - loss: 0.0619 - accuracy: 1.0000 - val_loss: 0.7912 - val_accuracy: 0.7000\n",
      "Epoch 90/100\n",
      "3/3 [==============================] - 0s 53ms/step - loss: 0.1866 - accuracy: 0.9241 - val_loss: 0.3981 - val_accuracy: 0.8000\n",
      "Epoch 91/100\n",
      "3/3 [==============================] - 0s 48ms/step - loss: 0.0843 - accuracy: 0.9747 - val_loss: 0.3667 - val_accuracy: 0.8500\n",
      "Epoch 92/100\n",
      "3/3 [==============================] - 0s 49ms/step - loss: 0.0558 - accuracy: 1.0000 - val_loss: 0.3935 - val_accuracy: 0.8500\n",
      "Epoch 93/100\n",
      "3/3 [==============================] - 0s 52ms/step - loss: 0.0550 - accuracy: 1.0000 - val_loss: 0.5299 - val_accuracy: 0.8500\n",
      "Epoch 94/100\n",
      "3/3 [==============================] - 0s 31ms/step - loss: 0.0802 - accuracy: 0.9747 - val_loss: 0.3505 - val_accuracy: 0.8500\n",
      "Epoch 95/100\n",
      "3/3 [==============================] - 0s 54ms/step - loss: 0.0778 - accuracy: 0.9873 - val_loss: 0.4042 - val_accuracy: 0.8000\n",
      "Epoch 96/100\n",
      "3/3 [==============================] - 0s 47ms/step - loss: 0.1039 - accuracy: 0.9747 - val_loss: 0.5164 - val_accuracy: 0.8500\n",
      "Epoch 97/100\n",
      "3/3 [==============================] - 0s 51ms/step - loss: 0.0729 - accuracy: 0.9747 - val_loss: 0.3470 - val_accuracy: 0.9000\n",
      "Epoch 98/100\n",
      "3/3 [==============================] - 0s 30ms/step - loss: 0.0572 - accuracy: 1.0000 - val_loss: 0.3826 - val_accuracy: 0.8500\n",
      "Epoch 99/100\n",
      "3/3 [==============================] - 0s 55ms/step - loss: 0.0565 - accuracy: 0.9747 - val_loss: 0.4893 - val_accuracy: 0.9000\n",
      "Epoch 100/100\n",
      "3/3 [==============================] - 0s 50ms/step - loss: 0.0525 - accuracy: 1.0000 - val_loss: 0.5107 - val_accuracy: 0.8500\n"
     ]
    }
   ],
   "source": [
    "H = model.fit(x_train, y_train, validation_data=(x_test, y_test), \n",
    "          epochs=max_epochs, batch_size=32)"
   ]
  },
  {
   "cell_type": "code",
   "execution_count": 17,
   "metadata": {},
   "outputs": [
    {
     "data": {
      "image/png": "[encoded data removed]",
      "text/plain": [
       "<Figure size 432x288 with 1 Axes>"
      ]
     },
     "metadata": {},
     "output_type": "display_data"
    }
   ],
   "source": [
    "N = np.arange(0, max_epochs)\n",
    "plt.style.use(\"ggplot\")\n",
    "plt.figure()\n",
    "plt.plot(N, H.history[\"loss\"], label=\"train_loss\")\n",
    "plt.plot(N, H.history[\"val_loss\"], label=\"val_loss\")\n",
    "#plt.plot(N, H.history[\"accuracy\"], label=\"train_acc\")\n",
    "#plt.plot(N, H.history[\"val_accuracy\"], label=\"val_acc\")\n",
    "plt.xlabel(\"Epoch #\")\n",
    "plt.legend()\n",
    "plt.show()"
   ]
  },
  {
   "cell_type": "markdown",
   "metadata": {},
   "source": [
    "<h3>7. Evaluate the Model</h3>"
   ]
  },
  {
   "cell_type": "code",
   "execution_count": 18,
   "metadata": {},
   "outputs": [
    {
     "name": "stdout",
     "output_type": "stream",
     "text": [
      "              precision    recall  f1-score   support\n",
      "\n",
      "     kemangi       1.00      0.75      0.86        12\n",
      "      pepaya       0.73      1.00      0.84         8\n",
      "\n",
      "    accuracy                           0.85        20\n",
      "   macro avg       0.86      0.88      0.85        20\n",
      "weighted avg       0.89      0.85      0.85        20\n",
      "\n"
     ]
    },
    {
     "name": "stderr",
     "output_type": "stream",
     "text": [
      "C:\\Users\\Asus\\AppData\\Local\\Temp/ipykernel_17132/954476436.py:3: DeprecationWarning: `np.int` is a deprecated alias for the builtin `int`. To silence this warning, use `int` by itself. Doing this will not modify any behavior and is safe. When replacing `np.int`, you may wish to use e.g. `np.int64` or `np.int32` to specify the precision. If you wish to review your current use, check the release note link for additional information.\n",
      "Deprecated in NumPy 1.20; for more details and guidance: https://numpy.org/devdocs/release/1.20.0-notes.html#deprecations\n",
      "  target = (predictions > 0.5).astype(np.int)\n"
     ]
    }
   ],
   "source": [
    "# menghitung nilai akurasi model terhadap data test\n",
    "predictions = model.predict(x_test, batch_size=32)\n",
    "target = (predictions > 0.5).astype(np.int)\n",
    "print(classification_report(y_test, target, target_names=label_list))"
   ]
  },
  {
   "cell_type": "code",
   "execution_count": 21,
   "metadata": {},
   "outputs": [
    {
     "name": "stdout",
     "output_type": "stream",
     "text": [
      "[[0.20791975]]\n"
     ]
    }
   ],
   "source": [
    "# uji model menggunakan image lain\n",
    "queryPath = imagePaths+'query_kemangi.jpg'\n",
    "query = cv2.imread(queryPath)\n",
    "output = query.copy()\n",
    "query = cv2.resize(query, (32, 32))\n",
    "q = []\n",
    "q.append(query)\n",
    "q = np.array(q, dtype='float') / 255.0\n",
    "\n",
    "q_pred = model.predict(q)\n",
    "print(q_pred)"
   ]
  },
  {
   "cell_type": "code",
   "execution_count": 22,
   "metadata": {},
   "outputs": [
    {
     "ename": "error",
     "evalue": "OpenCV(4.5.4-dev) D:\\a\\opencv-python\\opencv-python\\opencv\\modules\\highgui\\src\\window_w32.cpp:1261: error: (-27:Null pointer) NULL window: 'Output' in function 'cvDestroyWindow'\n",
     "output_type": "error",
     "traceback": [
      "\u001b[1;31m---------------------------------------------------------------------------\u001b[0m",
      "\u001b[1;31merror\u001b[0m                                     Traceback (most recent call last)",
      "\u001b[1;32m~\\AppData\\Local\\Temp/ipykernel_17132/179472694.py\u001b[0m in \u001b[0;36m<module>\u001b[1;34m\u001b[0m\n\u001b[0;32m      9\u001b[0m \u001b[0mcv2\u001b[0m\u001b[1;33m.\u001b[0m\u001b[0mimshow\u001b[0m\u001b[1;33m(\u001b[0m\u001b[1;34m'Output'\u001b[0m\u001b[1;33m,\u001b[0m \u001b[0moutput\u001b[0m\u001b[1;33m)\u001b[0m\u001b[1;33m\u001b[0m\u001b[1;33m\u001b[0m\u001b[0m\n\u001b[0;32m     10\u001b[0m \u001b[0mcv2\u001b[0m\u001b[1;33m.\u001b[0m\u001b[0mwaitKey\u001b[0m\u001b[1;33m(\u001b[0m\u001b[1;33m)\u001b[0m \u001b[1;31m# image tidak akan diclose,sebelum user menekan sembarang tombol\u001b[0m\u001b[1;33m\u001b[0m\u001b[1;33m\u001b[0m\u001b[0m\n\u001b[1;32m---> 11\u001b[1;33m \u001b[0mcv2\u001b[0m\u001b[1;33m.\u001b[0m\u001b[0mdestroyWindow\u001b[0m\u001b[1;33m(\u001b[0m\u001b[1;34m'Output'\u001b[0m\u001b[1;33m)\u001b[0m \u001b[1;31m# image akan diclose\u001b[0m\u001b[1;33m\u001b[0m\u001b[1;33m\u001b[0m\u001b[0m\n\u001b[0m",
      "\u001b[1;31merror\u001b[0m: OpenCV(4.5.4-dev) D:\\a\\opencv-python\\opencv-python\\opencv\\modules\\highgui\\src\\window_w32.cpp:1261: error: (-27:Null pointer) NULL window: 'Output' in function 'cvDestroyWindow'\n"
     ]
    }
   ],
   "source": [
    "if q_pred<=0.5 :\n",
    "    target = \"Kemangi\"\n",
    "else :\n",
    "    target = \"Pepaya\"\n",
    "text = \"{}\".format(target)\n",
    "cv2.putText(output, text, (10, 30), cv2.FONT_HERSHEY_SIMPLEX, 0.7, (0, 0, 255), 2)\n",
    " \n",
    "# menampilkan output image\n",
    "cv2.imshow('Output', output)\n",
    "cv2.waitKey() # image tidak akan diclose,sebelum user menekan sembarang tombol\n",
    "cv2.destroyWindow('Output') # image akan diclose"
   ]
  }
 ],
 "metadata": {
  "kernelspec": {
   "display_name": "Python 3",
   "language": "python",
   "name": "python3"
  },
  "language_info": {
   "codemirror_mode": {
    "name": "ipython",
    "version": 3
   },
   "file_extension": ".py",
   "mimetype": "text/x-python",
   "name": "python",
   "nbconvert_exporter": "python",
   "pygments_lexer": "ipython3",
   "version": "3.9.6"
  }
 },
 "nbformat": 4,
 "nbformat_minor": 4
}
